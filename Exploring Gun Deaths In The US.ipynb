{
 "cells": [
  {
   "cell_type": "code",
   "execution_count": 8,
   "metadata": {
    "collapsed": false
   },
   "outputs": [
    {
     "name": "stdout",
     "output_type": "stream",
     "text": [
      "[['', 'year', 'month', 'intent', 'police', 'sex', 'age', 'race', 'hispanic', 'place', 'education'], ['1', '2012', '01', 'Suicide', '0', 'M', '34', 'Asian/Pacific Islander', '100', 'Home', '4'], ['2', '2012', '01', 'Suicide', '0', 'F', '21', 'White', '100', 'Street', '3'], ['3', '2012', '01', 'Suicide', '0', 'M', '60', 'White', '100', 'Other specified', '4'], ['4', '2012', '02', 'Suicide', '0', 'M', '64', 'White', '100', 'Home', '4']]\n"
     ]
    }
   ],
   "source": [
    "import csv\n",
    "with open('guns.csv') as file:\n",
    "    reader = csv.reader(file)\n",
    "    data = list(reader)\n",
    "    print(data[:5])"
   ]
  },
  {
   "cell_type": "code",
   "execution_count": 9,
   "metadata": {
    "collapsed": false
   },
   "outputs": [
    {
     "name": "stdout",
     "output_type": "stream",
     "text": [
      "['', 'year', 'month', 'intent', 'police', 'sex', 'age', 'race', 'hispanic', 'place', 'education']\n",
      "[['1', '2012', '01', 'Suicide', '0', 'M', '34', 'Asian/Pacific Islander', '100', 'Home', '4'], ['2', '2012', '01', 'Suicide', '0', 'F', '21', 'White', '100', 'Street', '3'], ['3', '2012', '01', 'Suicide', '0', 'M', '60', 'White', '100', 'Other specified', '4'], ['4', '2012', '02', 'Suicide', '0', 'M', '64', 'White', '100', 'Home', '4'], ['5', '2012', '02', 'Suicide', '0', 'M', '31', 'White', '100', 'Other specified', '2']]\n"
     ]
    }
   ],
   "source": [
    "headers = data[0]\n",
    "new_data = data[1:len(data)]\n",
    "print(headers)\n",
    "print(new_data[:5])"
   ]
  },
  {
   "cell_type": "code",
   "execution_count": 10,
   "metadata": {
    "collapsed": false
   },
   "outputs": [
    {
     "name": "stdout",
     "output_type": "stream",
     "text": [
      "{'2014': 33599, '2012': 33563, '2013': 33636}\n"
     ]
    }
   ],
   "source": [
    "years = [row[1] for row in new_data]\n",
    "year_counts = {}\n",
    "for year in years:\n",
    "    if year in year_counts:\n",
    "        year_counts[year] += 1\n",
    "    else:\n",
    "        year_counts[year] = 1\n",
    "        \n",
    "print(year_counts)"
   ]
  },
  {
   "cell_type": "code",
   "execution_count": 11,
   "metadata": {
    "collapsed": false
   },
   "outputs": [
    {
     "name": "stdout",
     "output_type": "stream",
     "text": [
      "[datetime.datetime(2012, 1, 1, 0, 0), datetime.datetime(2012, 1, 1, 0, 0), datetime.datetime(2012, 1, 1, 0, 0), datetime.datetime(2012, 2, 1, 0, 0), datetime.datetime(2012, 2, 1, 0, 0)]\n"
     ]
    }
   ],
   "source": [
    "import datetime as dt\n",
    "dates = [ dt.datetime(year = int(row[1]), month = int(row[2]), day = 1) for row in new_data]\n",
    "print(dates[:5])"
   ]
  },
  {
   "cell_type": "code",
   "execution_count": 12,
   "metadata": {
    "collapsed": false
   },
   "outputs": [
    {
     "name": "stdout",
     "output_type": "stream",
     "text": [
      "{datetime.datetime(2012, 10, 1, 0, 0): 2733, datetime.datetime(2012, 6, 1, 0, 0): 2826, datetime.datetime(2014, 6, 1, 0, 0): 2931, datetime.datetime(2012, 5, 1, 0, 0): 2999, datetime.datetime(2013, 1, 1, 0, 0): 2864, datetime.datetime(2012, 3, 1, 0, 0): 2743, datetime.datetime(2014, 10, 1, 0, 0): 2865, datetime.datetime(2012, 7, 1, 0, 0): 3026, datetime.datetime(2013, 7, 1, 0, 0): 3079, datetime.datetime(2013, 3, 1, 0, 0): 2862, datetime.datetime(2012, 11, 1, 0, 0): 2729, datetime.datetime(2014, 7, 1, 0, 0): 2884, datetime.datetime(2012, 12, 1, 0, 0): 2791, datetime.datetime(2014, 3, 1, 0, 0): 2684, datetime.datetime(2013, 12, 1, 0, 0): 2765, datetime.datetime(2014, 5, 1, 0, 0): 2864, datetime.datetime(2014, 12, 1, 0, 0): 2857, datetime.datetime(2013, 10, 1, 0, 0): 2808, datetime.datetime(2013, 4, 1, 0, 0): 2798, datetime.datetime(2013, 6, 1, 0, 0): 2920, datetime.datetime(2013, 9, 1, 0, 0): 2742, datetime.datetime(2012, 8, 1, 0, 0): 2954, datetime.datetime(2013, 2, 1, 0, 0): 2375, datetime.datetime(2014, 8, 1, 0, 0): 2970, datetime.datetime(2014, 1, 1, 0, 0): 2651, datetime.datetime(2013, 5, 1, 0, 0): 2806, datetime.datetime(2012, 9, 1, 0, 0): 2852, datetime.datetime(2013, 8, 1, 0, 0): 2859, datetime.datetime(2014, 11, 1, 0, 0): 2756, datetime.datetime(2012, 1, 1, 0, 0): 2758, datetime.datetime(2012, 2, 1, 0, 0): 2357, datetime.datetime(2012, 4, 1, 0, 0): 2795, datetime.datetime(2014, 9, 1, 0, 0): 2914, datetime.datetime(2014, 2, 1, 0, 0): 2361, datetime.datetime(2014, 4, 1, 0, 0): 2862, datetime.datetime(2013, 11, 1, 0, 0): 2758}\n"
     ]
    }
   ],
   "source": [
    "date_counts = {}\n",
    "for date in dates:\n",
    "    if date in date_counts:\n",
    "        date_counts[date] += 1\n",
    "    else:\n",
    "        date_counts[date] = 1\n",
    "\n",
    "print(date_counts)"
   ]
  },
  {
   "cell_type": "code",
   "execution_count": 13,
   "metadata": {
    "collapsed": false
   },
   "outputs": [
    {
     "name": "stdout",
     "output_type": "stream",
     "text": [
      "{'M': 86349, 'F': 14449}\n",
      "{'Black': 23296, 'White': 66237, 'Native American/Native Alaskan': 917, 'Asian/Pacific Islander': 1326, 'Hispanic': 9022}\n"
     ]
    }
   ],
   "source": [
    "sexes = [row[5] for row in new_data]\n",
    "races = [row[7] for row in new_data]\n",
    "\n",
    "sex_counts = {}\n",
    "for sex in sexes:\n",
    "    if sex in sex_counts:\n",
    "        sex_counts[sex] += 1\n",
    "    else:\n",
    "        sex_counts[sex] = 1\n",
    "        \n",
    "race_counts = {}\n",
    "for race in races:\n",
    "    if race in race_counts:\n",
    "        race_counts[race] += 1\n",
    "    else:\n",
    "        race_counts[race] = 1\n",
    "        \n",
    "print(sex_counts)\n",
    "print(race_counts)\n"
   ]
  },
  {
   "cell_type": "markdown",
   "metadata": {},
   "source": [
    "### We analysed the gun deaths against the sex and race. \n",
    "### We also, analysed the deaths per year and per month per year. It was noticed that the gun deaths haven't changed much since 2012 and 2014. But we observed that the number of males killed/ died were substantially higher comapred to females.\n",
    "### Also, the most targeted race is white as ~66000 people were killed whereas the Native Alaskans had the least number of deaths with 917. \n",
    "### Furthermore, We can analyse if the victim had a hispanic connection, where majority of the shootings took place and what was the educational background of the victim. "
   ]
  },
  {
   "cell_type": "code",
   "execution_count": 14,
   "metadata": {
    "collapsed": false
   },
   "outputs": [
    {
     "name": "stdout",
     "output_type": "stream",
     "text": [
      "[['Id', 'Year', 'Id', 'Sex', 'Id', 'Hispanic Origin', 'Id', 'Id2', 'Geography', 'Total', 'Race Alone - White', 'Race Alone - Hispanic', 'Race Alone - Black or African American', 'Race Alone - American Indian and Alaska Native', 'Race Alone - Asian', 'Race Alone - Native Hawaiian and Other Pacific Islander', 'Two or More Races'], ['cen42010', 'April 1, 2010 Census', 'totsex', 'Both Sexes', 'tothisp', 'Total', '0100000US', '', 'United States', '308745538', '197318956', '44618105', '40250635', '3739506', '15159516', '674625', '6984195']]\n"
     ]
    }
   ],
   "source": [
    "import csv\n",
    "with open('census.csv') as file:\n",
    "    reader = csv.reader(file)\n",
    "    census = list(reader)\n",
    "print(census[0:5])"
   ]
  },
  {
   "cell_type": "code",
   "execution_count": 16,
   "metadata": {
    "collapsed": false
   },
   "outputs": [
    {
     "name": "stdout",
     "output_type": "stream",
     "text": [
      "{'Black': 57.8773477735196, 'White': 33.56849303419181, 'Asian/Pacific Islander': 8.374309664161762, 'Native American/Native Alaskan': 24.521955573811088, 'Hispanic': 20.220491210910907}\n"
     ]
    }
   ],
   "source": [
    "# we first create a dictionary that contains total population for each race \n",
    "mapping = {'Asian/Pacific Islander': 15834141, 'Black': 40250635, 'Hispanic': 44618105, 'Native American/Native Alaskan': 3739506, 'White': 197318956}\n",
    "\n",
    "# we stored the death per race in the following dictionary\n",
    "race_per_hundredk = {}\n",
    "\n",
    "# we loop through race_counts to get the killings data for every race \n",
    "for race in race_counts:\n",
    "    total_deaths_per_race = (race_counts[race] / mapping[race]) * 100000\n",
    "    race_per_hundredk[race] = total_deaths_per_race\n",
    "    \n",
    "print(race_per_hundredk)\n",
    "    "
   ]
  },
  {
   "cell_type": "code",
   "execution_count": 17,
   "metadata": {
    "collapsed": false
   },
   "outputs": [
    {
     "name": "stdout",
     "output_type": "stream",
     "text": [
      "{'Black': 48.471284987180944, 'White': 4.6356417981453335, 'Native American/Native Alaskan': 8.717729026240365, 'Asian/Pacific Islander': 3.530346230970155, 'Hispanic': 12.627161104219914}\n"
     ]
    }
   ],
   "source": [
    "'''Exploring Homicide rates based on race'''\n",
    "intents = [row[3] for row in new_data]\n",
    "races = [row[7] for row in new_data]\n",
    "\n",
    "homicide_race_per_hundredk = {}\n",
    "\n",
    "for i, race in enumerate(races):\n",
    "    if intents[i] == 'Homicide':\n",
    "        if race in homicide_race_per_hundredk:\n",
    "            homicide_race_per_hundredk[race] += 1\n",
    "        else:\n",
    "            homicide_race_per_hundredk[race] = 1\n",
    "            \n",
    "for homicide in homicide_race_per_hundredk:\n",
    "    total_death_by_homicide = (homicide_race_per_hundredk[homicide] / mapping[homicide]) * 100000\n",
    "    homicide_race_per_hundredk[homicide] = total_death_by_homicide\n",
    "    \n",
    "print(homicide_race_per_hundredk)"
   ]
  },
  {
   "cell_type": "markdown",
   "metadata": {},
   "source": [
    "### We analysed the death that took palce from 2012 to 2014 based on every race \n",
    "### We then converted the deaths to 'out of 100,000' to determine the number of deaths for each race per 100,000. To achieve this we divided the deaths every race by the their total population. We gert the total population for every race from the census.csv file. \n",
    "### We also find out the number of homicides taking place in each race.\n",
    "### We can still perform more analyses: \n",
    "- Geographically and education-wise to find out more about the background of the victims.\n",
    "- Figure out links, if any, between month and homicide rate.\n",
    "- Explore the homicide rate by gender.\n",
    "- Explore the rates of otehr intents, like Accidental, by gender and race.\n",
    "- Find out if gun death rates correlate to location and education"
   ]
  },
  {
   "cell_type": "code",
   "execution_count": 30,
   "metadata": {
    "collapsed": false
   },
   "outputs": [
    {
     "name": "stdout",
     "output_type": "stream",
     "text": [
      "{'M': 29803, 'F': 5373}\n",
      "{'M': 9.652933024735729, 'F': 1.7402680650238256}\n"
     ]
    }
   ],
   "source": [
    "\"\"\"Exploring homicide rates based on gender\"\"\"\n",
    "gender = [row[5] for row in new_data]\n",
    "total_population = [row[9] for row in census]\n",
    "intents = [row[3] for row in new_data]\n",
    "\n",
    "homicide_gender_per_hundredk = {}\n",
    "\n",
    "for i, sex in enumerate(gender):\n",
    "    if intents[i] == 'Homicide':\n",
    "        if sex in homicide_gender_per_hundredk:\n",
    "            homicide_gender_per_hundredk[sex] += 1\n",
    "        else:\n",
    "            homicide_gender_per_hundredk[sex] = 1\n",
    "    \n",
    "print(homicide_gender_per_hundredk)    \n",
    "for homicide in homicide_gender_per_hundredk:\n",
    "    total_deaths = (homicide_gender_per_hundredk[homicide] / int(total_population[1])) * 100000\n",
    "    homicide_gender_per_hundredk[homicide] = total_deaths\n",
    "    \n",
    "print(homicide_gender_per_hundredk)"
   ]
  },
  {
   "cell_type": "code",
   "execution_count": 28,
   "metadata": {
    "collapsed": false
   },
   "outputs": [
    {
     "name": "stdout",
     "output_type": "stream",
     "text": [
      "{'M': 1421, 'F': 218}\n",
      "{'Native American/Native Alaskan': 0.5883130017708221, 'Black': 0.814893976206835, 'White': 0.5736904466492313, 'Hispanic': 0.3249801846133985, 'Asian/Pacific Islander': 0.07578560782046845}\n"
     ]
    }
   ],
   "source": [
    "''' Exploring the rate of accidental intents by gender and race'''\n",
    "gender = [row[5] for row in new_data]\n",
    "intents = [row[3] for row in new_data]\n",
    "\n",
    "accidental_by_gender = {}\n",
    "for i, sex in enumerate(gender):\n",
    "    if intents[i] == 'Accidental':\n",
    "        if sex in accidental_by_gender:\n",
    "            accidental_by_gender[sex] += 1\n",
    "        else:\n",
    "            accidental_by_gender[sex] = 1\n",
    "            \n",
    "print(accidental_by_gender) \n",
    "\n",
    "races = [row[7] for row in new_data]\n",
    "\n",
    "accidental_race_per_hundredk = {}\n",
    "for i, race in enumerate(races):\n",
    "    if intents[i] == 'Accidental':\n",
    "        if race in accidental_race_per_hundredk:\n",
    "            accidental_race_per_hundredk[race] += 1\n",
    "        else:\n",
    "            accidental_race_per_hundredk[race] = 1\n",
    "            \n",
    "for race in accidental_race_per_hundredk:\n",
    "    total_accidents = (accidental_race_per_hundredk[race] / mapping[race]) * 100000\n",
    "    accidental_race_per_hundredk[race] = total_accidents\n",
    "    \n",
    "print(accidental_race_per_hundredk)"
   ]
  },
  {
   "cell_type": "code",
   "execution_count": 32,
   "metadata": {
    "collapsed": false
   },
   "outputs": [
    {
     "name": "stdout",
     "output_type": "stream",
     "text": [
      "{'NA': 1384, 'School/instiution': 671, 'Sports': 128, 'Residential institution': 203, 'Other specified': 13751, 'Trade/service area': 3439, 'Other unspecified': 8867, 'Farm': 470, 'Home': 60486, 'Industrial/construction': 248, 'Street': 11151}\n",
      "{'1': 21823, 'NA': 53, '3': 21680, '5': 1369, '4': 12946, '2': 42927}\n"
     ]
    }
   ],
   "source": [
    "''' Exploring where the shooting happened and the educational background of the victim'''\n",
    "places = [row[9] for row in new_data]\n",
    "educational_details = [row[10] for row in new_data]\n",
    "\n",
    "shooting_places = {}\n",
    "for place in places:\n",
    "    if place in shooting_places:\n",
    "        shooting_places[place] += 1\n",
    "    else:\n",
    "        shooting_places[place] = 1\n",
    "        \n",
    "print(shooting_places)\n",
    "\n",
    "education = {}\n",
    "for edu in educational_details:\n",
    "    if edu in education:\n",
    "        education[edu] += 1\n",
    "    else:\n",
    "        education[edu] = 1\n",
    "        \n",
    "print(education)"
   ]
  },
  {
   "cell_type": "code",
   "execution_count": 39,
   "metadata": {
    "collapsed": false
   },
   "outputs": [
    {
     "name": "stdout",
     "output_type": "stream",
     "text": [
      "('Home', 60486, 'Sports', 128)\n",
      "('2', 42927, 'NA', 53)\n"
     ]
    }
   ],
   "source": [
    "def max_min_killing_place(d):\n",
    "    return max(d, key = d.get), d[max(d, key = d.get)], min(d, key = d.get), d[min(d, key = d.get)]\n",
    "\n",
    "def max_min_killing_education(d):\n",
    "    return max(d, key = d.get), d[max(d, key = d.get)], min(d, key = d.get), d[min(d, key = d.get)]\n",
    "print(max_min_killing_place(shooting_places))\n",
    "print(max_min_killing_education(education))"
   ]
  },
  {
   "cell_type": "markdown",
   "metadata": {},
   "source": [
    "### From the analysis above we can see that the maximum killings have happened at homes and the least have happened at sports arena from 2012 to 2014.\n",
    "\n",
    "### Crimes are targeted at people who have graduated from high school or equivalent with 42,927 being killed. There are 53 people killed whose educational background is not available. "
   ]
  },
  {
   "cell_type": "markdown",
   "metadata": {},
   "source": [
    "### We can further categorize the killings in every place based on:\n",
    "- Race\n",
    "- month\n",
    "- intent\n",
    "- age\n",
    "\n",
    "### We can do a similar analysis for educational background as well."
   ]
  },
  {
   "cell_type": "code",
   "execution_count": 36,
   "metadata": {
    "collapsed": false
   },
   "outputs": [
    {
     "name": "stdout",
     "output_type": "stream",
     "text": [
      "{'NA': 353, 'School/instiution': 233, 'Residential institution': 43, 'Other specified': 3663, 'Trade/service area': 1023, 'Other unspecified': 2590, 'Industrial/construction': 59, 'Home': 8942, 'Sports': 27, 'Farm': 13, 'Street': 6350}\n"
     ]
    }
   ],
   "source": [
    "''' Let's find out the killings that took place in different places based on race'''\n",
    "races = [row[7] for row in new_data]\n",
    "places = [row[9] for row in new_data]\n",
    "\n",
    "place_race_killing = {}\n",
    "for i, place in enumerate(places):\n",
    "    if races[i] == 'Black':\n",
    "        if place in place_race_killing:\n",
    "            place_race_killing[place] += 1\n",
    "        else:\n",
    "            place_race_killing[place] = 1\n",
    "            \n",
    "print(place_race_killing)"
   ]
  },
  {
   "cell_type": "code",
   "execution_count": 37,
   "metadata": {
    "collapsed": false
   },
   "outputs": [
    {
     "name": "stdout",
     "output_type": "stream",
     "text": [
      "('Home', 8942, 'Farm', 13)\n"
     ]
    }
   ],
   "source": [
    "def race_killing(d):\n",
    "    return max(d, key = d.get), d[max(d, key = d.get)], min(d, key = d.get), d[min(d, key = d.get)]\n",
    "\n",
    "print(race_killing(place_race_killing))"
   ]
  },
  {
   "cell_type": "markdown",
   "metadata": {},
   "source": [
    "### So, we can see that most black people were killed at home (8942) whereas the least number of black people were killed in farms (13)."
   ]
  }
 ],
 "metadata": {
  "kernelspec": {
   "display_name": "Python 3",
   "language": "python",
   "name": "python3"
  },
  "language_info": {
   "codemirror_mode": {
    "name": "ipython",
    "version": 3
   },
   "file_extension": ".py",
   "mimetype": "text/x-python",
   "name": "python",
   "nbconvert_exporter": "python",
   "pygments_lexer": "ipython3",
   "version": "3.4.3"
  }
 },
 "nbformat": 4,
 "nbformat_minor": 0
}
